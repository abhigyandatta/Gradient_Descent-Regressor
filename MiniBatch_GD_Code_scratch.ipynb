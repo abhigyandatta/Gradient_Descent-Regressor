{
 "cells": [
  {
   "cell_type": "code",
   "execution_count": 1,
   "metadata": {},
   "outputs": [],
   "source": [
    "import numpy as np\n",
    "import pandas as pd"
   ]
  },
  {
   "cell_type": "code",
   "execution_count": 2,
   "metadata": {},
   "outputs": [],
   "source": [
    "from sklearn.datasets import load_diabetes\n",
    "from sklearn.model_selection import train_test_split\n",
    "from sklearn.linear_model import LinearRegression"
   ]
  },
  {
   "cell_type": "markdown",
   "metadata": {},
   "source": [
    "## Feature and Target Defined"
   ]
  },
  {
   "cell_type": "code",
   "execution_count": 3,
   "metadata": {},
   "outputs": [
    {
     "name": "stdout",
     "output_type": "stream",
     "text": [
      "(442, 10)\n",
      "(442,)\n"
     ]
    }
   ],
   "source": [
    "X,y=load_diabetes(return_X_y=True)\n",
    "print(X.shape)\n",
    "print(y.shape)"
   ]
  },
  {
   "cell_type": "code",
   "execution_count": 4,
   "metadata": {},
   "outputs": [],
   "source": [
    "X_train, X_test, y_train, y_test = train_test_split(X, y, test_size=0.2, random_state=28)"
   ]
  },
  {
   "cell_type": "code",
   "execution_count": 5,
   "metadata": {},
   "outputs": [
    {
     "name": "stdout",
     "output_type": "stream",
     "text": [
      "(353, 10)\n",
      "(89, 10)\n",
      "(353,)\n",
      "(89,)\n"
     ]
    }
   ],
   "source": [
    "print(X_train.shape)\n",
    "print(X_test.shape)\n",
    "print(y_train.shape)\n",
    "print(y_test.shape)\n"
   ]
  },
  {
   "cell_type": "markdown",
   "metadata": {},
   "source": [
    "## Train a Linear Regression model"
   ]
  },
  {
   "cell_type": "code",
   "execution_count": 6,
   "metadata": {},
   "outputs": [],
   "source": [
    "lin_reg=LinearRegression()"
   ]
  },
  {
   "cell_type": "code",
   "execution_count": 7,
   "metadata": {},
   "outputs": [
    {
     "data": {
      "text/plain": [
       "LinearRegression()"
      ]
     },
     "execution_count": 7,
     "metadata": {},
     "output_type": "execute_result"
    }
   ],
   "source": [
    "lin_reg.fit(X_train,y_train)"
   ]
  },
  {
   "cell_type": "code",
   "execution_count": 8,
   "metadata": {},
   "outputs": [
    {
     "name": "stdout",
     "output_type": "stream",
     "text": [
      "Coeffecients:  [ -26.2149567  -218.78040385  509.78484869  358.96687657 -661.82420858\n",
      "  340.4714333    79.31947951  198.10372995  715.63249863   46.4038622 ]\n",
      "\n",
      "Intercept:  151.74894231820443\n"
     ]
    }
   ],
   "source": [
    "print('Coeffecients: ',lin_reg.coef_)\n",
    "print()\n",
    "print('Intercept: ',lin_reg.intercept_)"
   ]
  },
  {
   "cell_type": "code",
   "execution_count": 9,
   "metadata": {},
   "outputs": [],
   "source": [
    "y_pred=lin_reg.predict(X_test)"
   ]
  },
  {
   "cell_type": "code",
   "execution_count": 10,
   "metadata": {},
   "outputs": [
    {
     "name": "stdout",
     "output_type": "stream",
     "text": [
      "r2_score:  0.4416396103640897\n"
     ]
    }
   ],
   "source": [
    "from sklearn.metrics import r2_score\n",
    "print('r2_score: ',r2_score(y_test,y_pred))"
   ]
  },
  {
   "cell_type": "markdown",
   "metadata": {},
   "source": [
    "# Create and train our own Gradient Descent Class"
   ]
  },
  {
   "cell_type": "code",
   "execution_count": 26,
   "metadata": {},
   "outputs": [],
   "source": [
    "class Mini_Batch_GD:\n",
    "    def __init__(self,learn_rate,epochs,batch_size):\n",
    "        self.intercept=None\n",
    "        self.coef=None\n",
    "        self.epochs=epochs\n",
    "        self.lr=learn_rate\n",
    "        self.batch_size=batch_size\n",
    "        \n",
    "    def fit(self,X,y):\n",
    "        # initialise coefs and intercepts\n",
    "        self.intercept=0\n",
    "        self.coef=np.ones(X.shape[1])\n",
    "        \n",
    "        # iterate epochwise\n",
    "        for i in range(self.epochs):\n",
    "            \n",
    "            for j in range(int(X.shape[0]/self.batch_size)):\n",
    "               \n",
    "                idx=np.random.randint(low=0,high=X.shape[0]-1,size=self.batch_size)  #creates a random array of ids\n",
    "                \n",
    "                y_hat=np.dot(X[idx],self.coef)+self.intercept  # this is a scalar, ie single value\n",
    "                \n",
    "                # Intercept updaton\n",
    "                intercept_der=-2*np.mean((y[idx]-y_hat))\n",
    "                self.intercept=self.intercept - (self.lr*intercept_der)\n",
    "                \n",
    "                #coef updation\n",
    "                coef_der=-2*np.dot((y[idx]-y_hat),X[idx])\n",
    "                self.coef=self.coef- (self.lr* coef_der)\n",
    "                \n",
    "        print(self.intercept,self.coef)        \n",
    "                    \n",
    "    \n",
    "    def predict(self,X):\n",
    "        return np.dot(X,self.coef)+self.intercept"
   ]
  },
  {
   "cell_type": "code",
   "execution_count": 32,
   "metadata": {},
   "outputs": [],
   "source": [
    "gd_reg=Mini_Batch_GD(learn_rate=0.02,epochs=50,batch_size=20)"
   ]
  },
  {
   "cell_type": "code",
   "execution_count": 33,
   "metadata": {},
   "outputs": [
    {
     "name": "stdout",
     "output_type": "stream",
     "text": [
      "152.09435876363338 [   3.11652574 -152.88627901  437.97617768  317.97761135  -23.52039758\n",
      "  -96.44812856 -194.25298722  124.63369355  388.46274147  116.42335035]\n"
     ]
    }
   ],
   "source": [
    "gd_reg.fit(X_train,y_train)"
   ]
  },
  {
   "cell_type": "code",
   "execution_count": 34,
   "metadata": {},
   "outputs": [],
   "source": [
    "y_pred=gd_reg.predict(X_test)"
   ]
  },
  {
   "cell_type": "code",
   "execution_count": 35,
   "metadata": {},
   "outputs": [
    {
     "data": {
      "text/plain": [
       "(89,)"
      ]
     },
     "execution_count": 35,
     "metadata": {},
     "output_type": "execute_result"
    }
   ],
   "source": [
    "y_pred.shape"
   ]
  },
  {
   "cell_type": "code",
   "execution_count": 36,
   "metadata": {},
   "outputs": [
    {
     "data": {
      "text/plain": [
       "0.43334557204144863"
      ]
     },
     "execution_count": 36,
     "metadata": {},
     "output_type": "execute_result"
    }
   ],
   "source": [
    "r2_score(y_test,y_pred)"
   ]
  },
  {
   "cell_type": "raw",
   "metadata": {},
   "source": [
    "Mini Batch GD is best of both worlds: SGD and Batch GD\n",
    "Achieves faster convergence than Batch GD, but less erratic than SGD"
   ]
  },
  {
   "cell_type": "code",
   "execution_count": null,
   "metadata": {},
   "outputs": [],
   "source": []
  }
 ],
 "metadata": {
  "kernelspec": {
   "display_name": "Python 3",
   "language": "python",
   "name": "python3"
  },
  "language_info": {
   "codemirror_mode": {
    "name": "ipython",
    "version": 3
   },
   "file_extension": ".py",
   "mimetype": "text/x-python",
   "name": "python",
   "nbconvert_exporter": "python",
   "pygments_lexer": "ipython3",
   "version": "3.7.4"
  }
 },
 "nbformat": 4,
 "nbformat_minor": 2
}
